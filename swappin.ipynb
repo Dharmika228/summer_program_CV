import cv2 

shizu = cv2.imread('mina.jpg')
ph = cv2.imread('nobi.jpg')

nobi = ph[:300, :400]

cv2.imshow('hel',nobi)
cv2.imshow("hey",shizu)
cv2.waitKey()
cv2.destroyAllWindows()

nobi1 = nobi[50:214, 100:300]
shizu1 = shizu[50:214, 100:300] 

shizu[50:214, 100:300] = nobi1 

cv2.imshow("hdv",shizu)
#cv2.imshow("hey",nobi)
cv2.waitKey()
cv2.destroyAllWindows()