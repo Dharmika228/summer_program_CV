

import cv2 

img = cv2.imread('dark.jpg')
img2 = cv2.imread('sunman.jpg')

img1 = img2[:459, :613]    #resizing img2

cv2.imshow("com",img)
cv2.imshow("con",img1)
cv2.waitKey()
cv2.destroyAllWindows()

comb = cv2.hconcat([img, img1])

cv2.imshow("com",comb)
cv2.waitKey()
cv2.destroyAllWindows()     #horizontal concatenation of images 

comb1 = cv2.vconcat([img, img1])

cv2.imshow("cof",comb1)
cv2.waitKey()
cv2.destroyAllWindows()      #vertical concatenation of images 