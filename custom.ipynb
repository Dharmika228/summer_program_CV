

import cv2    #making of custom image
import numpy

i.shape

l = cv2.circle(i, (200, 200), 50, (18, 100, 47), 100)#center

l = cv2.circle(i, (280, 145), 30, (101, 123, 234), 30)#right
l = cv2.circle(i, (280, 310), 10, (18, 100, 47), 60)#rh

l = cv2.circle(i, (123, 310), 10, (169, 15,11), 60)#lefth

l = cv2.circle(i, (123, 145), 30, (169, 15,11), 30)#left

l = cv2.circle(i, (200, 380), 50, (18, 100, 47), 100)#bottomcenter


l = cv2.circle(i, (123, 450), 10, (18, 100, 47), 50)#ll

l = cv2.circle(i, (280, 450), 10, (18, 100, 47), 50)#rl

cv2.imshow("custom", i)
cv2.waitKey()
cv2.destroyAllWindows()